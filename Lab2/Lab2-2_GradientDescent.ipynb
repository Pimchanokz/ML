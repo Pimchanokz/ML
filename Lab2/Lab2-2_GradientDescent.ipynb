{
 "cells": [
  {
   "cell_type": "markdown",
   "metadata": {},
   "source": [
    "# **LAB 2 - PART 2 Gradient Descent**"
   ]
  },
  {
   "cell_type": "code",
   "execution_count": 102,
   "metadata": {},
   "outputs": [],
   "source": [
    "import numpy as np \n",
    "import pandas as pd \n",
    "import matplotlib.pyplot as plt\n",
    "from sklearn import preprocessing\n",
    "from matplotlib.animation import FuncAnimation\n",
    "from IPython.display import display, Image"
   ]
  },
  {
   "cell_type": "markdown",
   "metadata": {},
   "source": [
    "### **Read file, Explore Data, Data Cleansing**"
   ]
  },
  {
   "cell_type": "code",
   "execution_count": 103,
   "metadata": {},
   "outputs": [
    {
     "data": {
      "text/html": [
       "<div>\n",
       "<style scoped>\n",
       "    .dataframe tbody tr th:only-of-type {\n",
       "        vertical-align: middle;\n",
       "    }\n",
       "\n",
       "    .dataframe tbody tr th {\n",
       "        vertical-align: top;\n",
       "    }\n",
       "\n",
       "    .dataframe thead th {\n",
       "        text-align: right;\n",
       "    }\n",
       "</style>\n",
       "<table border=\"1\" class=\"dataframe\">\n",
       "  <thead>\n",
       "    <tr style=\"text-align: right;\">\n",
       "      <th></th>\n",
       "      <th>No</th>\n",
       "      <th>Gold Price Increment</th>\n",
       "      <th>Bitcoin Increment</th>\n",
       "    </tr>\n",
       "  </thead>\n",
       "  <tbody>\n",
       "    <tr>\n",
       "      <th>count</th>\n",
       "      <td>9.000000</td>\n",
       "      <td>9.000000</td>\n",
       "      <td>9.000000</td>\n",
       "    </tr>\n",
       "    <tr>\n",
       "      <th>mean</th>\n",
       "      <td>5.000000</td>\n",
       "      <td>0.444444</td>\n",
       "      <td>1088.555556</td>\n",
       "    </tr>\n",
       "    <tr>\n",
       "      <th>std</th>\n",
       "      <td>2.738613</td>\n",
       "      <td>3.126944</td>\n",
       "      <td>521.563062</td>\n",
       "    </tr>\n",
       "    <tr>\n",
       "      <th>min</th>\n",
       "      <td>1.000000</td>\n",
       "      <td>-4.000000</td>\n",
       "      <td>424.000000</td>\n",
       "    </tr>\n",
       "    <tr>\n",
       "      <th>25%</th>\n",
       "      <td>3.000000</td>\n",
       "      <td>-2.000000</td>\n",
       "      <td>663.000000</td>\n",
       "    </tr>\n",
       "    <tr>\n",
       "      <th>50%</th>\n",
       "      <td>5.000000</td>\n",
       "      <td>1.000000</td>\n",
       "      <td>1012.000000</td>\n",
       "    </tr>\n",
       "    <tr>\n",
       "      <th>75%</th>\n",
       "      <td>7.000000</td>\n",
       "      <td>2.000000</td>\n",
       "      <td>1560.000000</td>\n",
       "    </tr>\n",
       "    <tr>\n",
       "      <th>max</th>\n",
       "      <td>9.000000</td>\n",
       "      <td>5.000000</td>\n",
       "      <td>1882.000000</td>\n",
       "    </tr>\n",
       "  </tbody>\n",
       "</table>\n",
       "</div>"
      ],
      "text/plain": [
       "             No  Gold Price Increment  Bitcoin Increment\n",
       "count  9.000000              9.000000           9.000000\n",
       "mean   5.000000              0.444444        1088.555556\n",
       "std    2.738613              3.126944         521.563062\n",
       "min    1.000000             -4.000000         424.000000\n",
       "25%    3.000000             -2.000000         663.000000\n",
       "50%    5.000000              1.000000        1012.000000\n",
       "75%    7.000000              2.000000        1560.000000\n",
       "max    9.000000              5.000000        1882.000000"
      ]
     },
     "execution_count": 103,
     "metadata": {},
     "output_type": "execute_result"
    }
   ],
   "source": [
    "### START CODE HERE ###\n",
    "df = pd.read_csv(\"Gradient-Descent-example-data.csv\")\n",
    "### END CODE HERE ###\n",
    "df.describe()"
   ]
  },
  {
   "cell_type": "markdown",
   "metadata": {},
   "source": [
    "### **Create a `Bitcoin Increment_standardize` columns**"
   ]
  },
  {
   "cell_type": "code",
   "execution_count": 104,
   "metadata": {},
   "outputs": [
    {
     "data": {
      "text/html": [
       "<div>\n",
       "<style scoped>\n",
       "    .dataframe tbody tr th:only-of-type {\n",
       "        vertical-align: middle;\n",
       "    }\n",
       "\n",
       "    .dataframe tbody tr th {\n",
       "        vertical-align: top;\n",
       "    }\n",
       "\n",
       "    .dataframe thead th {\n",
       "        text-align: right;\n",
       "    }\n",
       "</style>\n",
       "<table border=\"1\" class=\"dataframe\">\n",
       "  <thead>\n",
       "    <tr style=\"text-align: right;\">\n",
       "      <th></th>\n",
       "      <th>No</th>\n",
       "      <th>Gold Price Increment</th>\n",
       "      <th>Bitcoin Increment</th>\n",
       "      <th>Bitcoin Increment_standardize</th>\n",
       "    </tr>\n",
       "  </thead>\n",
       "  <tbody>\n",
       "    <tr>\n",
       "      <th>0</th>\n",
       "      <td>1</td>\n",
       "      <td>-1</td>\n",
       "      <td>846</td>\n",
       "      <td>-0.493265</td>\n",
       "    </tr>\n",
       "    <tr>\n",
       "      <th>1</th>\n",
       "      <td>2</td>\n",
       "      <td>-4</td>\n",
       "      <td>424</td>\n",
       "      <td>-1.351452</td>\n",
       "    </tr>\n",
       "    <tr>\n",
       "      <th>2</th>\n",
       "      <td>3</td>\n",
       "      <td>2</td>\n",
       "      <td>1560</td>\n",
       "      <td>0.958738</td>\n",
       "    </tr>\n",
       "    <tr>\n",
       "      <th>3</th>\n",
       "      <td>4</td>\n",
       "      <td>-3</td>\n",
       "      <td>523</td>\n",
       "      <td>-1.150124</td>\n",
       "    </tr>\n",
       "    <tr>\n",
       "      <th>4</th>\n",
       "      <td>5</td>\n",
       "      <td>1</td>\n",
       "      <td>1012</td>\n",
       "      <td>-0.155685</td>\n",
       "    </tr>\n",
       "    <tr>\n",
       "      <th>5</th>\n",
       "      <td>6</td>\n",
       "      <td>-2</td>\n",
       "      <td>663</td>\n",
       "      <td>-0.865418</td>\n",
       "    </tr>\n",
       "    <tr>\n",
       "      <th>6</th>\n",
       "      <td>7</td>\n",
       "      <td>4</td>\n",
       "      <td>1624</td>\n",
       "      <td>1.088890</td>\n",
       "    </tr>\n",
       "    <tr>\n",
       "      <th>7</th>\n",
       "      <td>8</td>\n",
       "      <td>5</td>\n",
       "      <td>1882</td>\n",
       "      <td>1.613563</td>\n",
       "    </tr>\n",
       "    <tr>\n",
       "      <th>8</th>\n",
       "      <td>9</td>\n",
       "      <td>2</td>\n",
       "      <td>1263</td>\n",
       "      <td>0.354753</td>\n",
       "    </tr>\n",
       "  </tbody>\n",
       "</table>\n",
       "</div>"
      ],
      "text/plain": [
       "   No  Gold Price Increment  Bitcoin Increment  Bitcoin Increment_standardize\n",
       "0   1                    -1                846                      -0.493265\n",
       "1   2                    -4                424                      -1.351452\n",
       "2   3                     2               1560                       0.958738\n",
       "3   4                    -3                523                      -1.150124\n",
       "4   5                     1               1012                      -0.155685\n",
       "5   6                    -2                663                      -0.865418\n",
       "6   7                     4               1624                       1.088890\n",
       "7   8                     5               1882                       1.613563\n",
       "8   9                     2               1263                       0.354753"
      ]
     },
     "execution_count": 104,
     "metadata": {},
     "output_type": "execute_result"
    }
   ],
   "source": [
    "### START CODE HERE ###\n",
    "standardize_scaler = preprocessing.StandardScaler().fit(df)\n",
    "df['Bitcoin Increment_standardize'] = standardize_scaler.fit_transform(df[[\"Bitcoin Increment\"]])\n",
    "\n",
    "### END CODE HERE ###\n",
    "df"
   ]
  },
  {
   "cell_type": "markdown",
   "metadata": {},
   "source": [
    "### **Gradient Descent**"
   ]
  },
  {
   "attachments": {
    "image.png": {
     "image/png": "[encoded data removed]"
    }
   },
   "cell_type": "markdown",
   "metadata": {},
   "source": [
    "$$\n",
    "h_{\\theta} = \\theta_1x + \\theta_0 \n",
    "\\\\\n",
    "J(\\theta) = (y-h{(x)})^2\n",
    "\\\\\n",
    "\\theta_{j} \\leftarrow \\theta_{j} - \\alpha \\frac{\\partial}{\\partial \\theta_{j}} J(\\theta)\n",
    "$$\n",
    "Demonstrate a single step of Gradient Descent. Then plot the graph that shows the model before and after the update parameters\n",
    "\n",
    "Let's  $x = Gold\\ Price\\ Increment, y = Bitcoin\\ Increment\\_standardize, \\theta_0 = 0.4, \\theta_1 = 0.8, learning\\ rate = 0.01$\n",
    "\n",
    "<details>\n",
    "\n",
    "<summary>\n",
    "<font size=\"3\" color=\"orange\">\n",
    "<b>Expected output</b>\n",
    "</font>\n",
    "</summary>\n",
    "\n",
    "![image.png](attachment:image.png)\n",
    "\n",
    "</details>"
   ]
  },
  {
   "cell_type": "code",
   "execution_count": 105,
   "metadata": {},
   "outputs": [
    {
     "name": "stdout",
     "output_type": "stream",
     "text": [
      "0.0074990847922647985\n"
     ]
    },
    {
     "data": {
      "image/png": "[encoded data removed]",
      "text/plain": [
       "<Figure size 640x480 with 1 Axes>"
      ]
     },
     "metadata": {},
     "output_type": "display_data"
    }
   ],
   "source": [
    "### START CODE HERE ###\n",
    "theta_0 = 0.4\n",
    "theta_1 = 0.8\n",
    "alpha = 0.01\n",
    "\n",
    "y = df['Bitcoin Increment_standardize']\n",
    "x = df['Gold Price Increment']\n",
    "\n",
    "h_before = theta_1*x + theta_0\n",
    "grad_J_theta_1 = np.sum(2*(y-h_before)*(-x))\n",
    "grad_J_theta_0 = np.sum(2*(y-h_before)*(-1))\n",
    "theta_1 = theta_1-(alpha*grad_J_theta_1)\n",
    "theta_0 = theta_0-(alpha*grad_J_theta_0)\n",
    "h_after = theta_1*x + theta_0\n",
    "\n",
    "\n",
    "### END CODE HERE ###\n",
    "\n",
    "plt.scatter(x,y)\n",
    "plt.xlabel(\"Gold Price Increment\")\n",
    "plt.ylabel('Bitcoin Increment_standardize')\n",
    "plt.plot(x, h_before, label='h_before')\n",
    "plt.plot(x, h_after, label='h_after')\n",
    "plt.legend()\n",
    "\n",
    "print(theta_1)"
   ]
  },
  {
   "cell_type": "markdown",
   "metadata": {},
   "source": [
    "Now let's create N iterations of gradient descent, <span style='color: orange;'>***print all parameters and loss every iteration***</span> then <span style='color: orange;'>***plot the loss history***</span> and <span style='color: orange;'>***save the animation to show the change of model in each iteration to .gif***</span>.\n",
    "\n",
    "Let's  $x = Gold\\ Price\\ Increment, y = Bitcoin\\ Increment\\_standardize, \\theta_0 \\in [0,1], \\theta_1 \\in [0,1], learning\\ rate = alpha$\n"
   ]
  },
  {
   "cell_type": "code",
   "execution_count": 106,
   "metadata": {},
   "outputs": [],
   "source": [
    "### START CODE HERE ###\n",
    "def gradient_descent(theta_0, theta_1,iterations,x,y,alpha=0.01):\n",
    "    theta_0_history = []\n",
    "    theta_1_history = []\n",
    "    loss_history = []\n",
    "    \n",
    "    for i in range(iterations):\n",
    "        \n",
    "        h_before = theta_1*x + theta_0\n",
    "        grad_J_theta_1 = np.sum(2*(y-h_before)*(-x))\n",
    "        grad_J_theta_0 = np.sum(2*(y-h_before)*(-1))\n",
    "        theta_1 = theta_1-(alpha*grad_J_theta_1)\n",
    "        theta_0 = theta_0-(alpha*grad_J_theta_0)\n",
    "        h_after = theta_1*x + theta_0\n",
    "        \n",
    "        loss = np.mean((y-h_after)**2)\n",
    "        \n",
    "        theta_0_history.append(theta_0)\n",
    "        theta_1_history.append(theta_1)\n",
    "        loss_history.append(loss)\n",
    "    \n",
    "    \n",
    "    return theta_0_history, theta_1_history, loss_history\n",
    "\n",
    "\n",
    "    \n",
    "### END CODE HERE ###"
   ]
  },
  {
   "cell_type": "code",
   "execution_count": 107,
   "metadata": {},
   "outputs": [
    {
     "name": "stdout",
     "output_type": "stream",
     "text": [
      "29\n",
      "0.04162427919655471\n",
      "[1.0286693555847637, 0.4587504076049071, 0.23241948247728242, 0.13742772520459268, 0.09436352171204755, 0.07294901190707415, 0.06126382465082511, 0.05436988598729412, 0.05006697172470315, 0.047282037749947145, 0.04544007967782029, 0.04420664982959366, 0.043375016052756156, 0.04281217956108551, 0.042430482819140254, 0.042171343409851486, 0.04199530534710572, 0.04187568125658806, 0.041794378462622496, 0.04173911571269195, 0.04170155090862073, 0.04167601558396089, 0.04165865725612362, 0.041646857371884026, 0.0416388359859489, 0.04163338315482233, 0.04162967638852988, 0.04162715657361209, 0.04162544363329639, 0.04162427919655471]\n"
     ]
    }
   ],
   "source": [
    "### START CODE HERE ###\n",
    "theta_0 = 0.4\n",
    "theta_1 = 0.8\n",
    "alpha = 0.01\n",
    "N = 30\n",
    "\n",
    "y = df['Bitcoin Increment_standardize']\n",
    "x = df['Gold Price Increment']\n",
    "\n",
    "loss_history.append(0)\n",
    "# use  gradient_descent() here to estimate theta_0, theta_1 @all iterations\n",
    "\n",
    "theta_0_history, theta_1_history, loss_history = gradient_descent(theta_0, theta_1,N,x,y,alpha=0.01)\n",
    "\n",
    "#min = min(loss_history)\n",
    "index = loss_history.index(np.min(loss_history))\n",
    "# for i in range(loss_history):\n",
    "#     if loss_history[i] == min:\n",
    "#         print(i)\n",
    "#         break\n",
    "\n",
    "print(index)\n",
    "print(min)\n",
    "print(loss_history)\n",
    "### END CODE HERE ###"
   ]
  },
  {
   "cell_type": "markdown",
   "metadata": {},
   "source": [
    "### Show Figure of scatter plot of data and regression model (Red line) at each iteration\n",
    "Try figure animation using FuncAnimation()**\n",
    "\n",
    "<details>\n",
    "<summary>\n",
    "<font size=\"3\" color=\"orange\">\n",
    "<b>Expected output</b>\n",
    "</font>\n",
    "</summary>\n",
    "\n",
    "![SegmentLocal](parameter_update_animation.gif \"segment\")\n",
    "\n",
    "</details>"
   ]
  },
  {
   "cell_type": "code",
   "execution_count": 108,
   "metadata": {},
   "outputs": [
    {
     "data": {
      "image/png": "[encoded data removed]",
      "text/plain": [
       "<Figure size 640x480 with 1 Axes>"
      ]
     },
     "metadata": {},
     "output_type": "display_data"
    },
    {
     "name": "stderr",
     "output_type": "stream",
     "text": [
      "MovieWriter ffmpeg unavailable; using Pillow instead.\n"
     ]
    }
   ],
   "source": [
    "### START CODE HERE ###\n",
    "def update(frame):\n",
    "    h_after = theta_1_history[frame] * x + theta_0_history[frame] \n",
    "    line.set_data(x, h_after)\n",
    "    iteration_text.set_text(f'Iteration: {frame}, Loss: {loss_history[frame]:.4f}')\n",
    "\n",
    "fig, ax = plt.subplots()\n",
    "sc = ax.scatter(x, y, color='blue', label='Data')\n",
    "line, = ax.plot(x, theta_1_history[0]*x + theta_0_history[0], color='red', label='Regression Line')\n",
    "\n",
    "ax.set_xlabel('Gold Price Increment')\n",
    "ax.set_ylabel('Bitcoin Increment_standardize')\n",
    "ax.set_ylim(-2, 4)\n",
    "\n",
    "iteration_text = ax.text(0.5, 1.05, '', transform=ax.transAxes, ha='center')\n",
    "animation = FuncAnimation(fig, update, N, interval=100, repeat=False)\n",
    "plt.show()\n",
    "\n",
    "animation.save('gradient_descent.gif', writer = 'ffmpeg', fps = 6) \n",
    "### END CODE HERE ###"
   ]
  },
  {
   "cell_type": "markdown",
   "metadata": {},
   "source": [
    "### Create the `Predicted_standardize` columns from the best parameters set\n",
    "\n",
    "<details>\n",
    "\n",
    "<summary>\n",
    "<font size=\"3\" color=\"orange\">\n",
    "<b>Expected output</b>\n",
    "</font>\n",
    "</summary>\n",
    "\n",
    "- The output should resemble this, but not be identical, depending on your initial parameters value.</br>\n",
    "<br>\n",
    "\n",
    "| Gold Price Increment | Bitcoin Increment | Bitcoin Increment_standardize | Predicted_standardize |\n",
    "|----------------------|-------------------|-------------------------------|------------------------|\n",
    "| -1                | 846                           | -0.493265              | -0.169845              |\n",
    "| -4                | 424                           | -1.351452              | -1.063912              |\n",
    "| 2                 | 1560                          | 0.958738               | 0.724223               |\n",
    "| -3                | 523                           | -1.150124              | -0.765890              |\n",
    "\n",
    "\n",
    "\n",
    "</details>"
   ]
  },
  {
   "cell_type": "code",
   "execution_count": 109,
   "metadata": {},
   "outputs": [
    {
     "data": {
      "text/html": [
       "<div>\n",
       "<style scoped>\n",
       "    .dataframe tbody tr th:only-of-type {\n",
       "        vertical-align: middle;\n",
       "    }\n",
       "\n",
       "    .dataframe tbody tr th {\n",
       "        vertical-align: top;\n",
       "    }\n",
       "\n",
       "    .dataframe thead th {\n",
       "        text-align: right;\n",
       "    }\n",
       "</style>\n",
       "<table border=\"1\" class=\"dataframe\">\n",
       "  <thead>\n",
       "    <tr style=\"text-align: right;\">\n",
       "      <th></th>\n",
       "      <th>Gold Price Increment</th>\n",
       "      <th>Bitcoin Increment</th>\n",
       "      <th>Bitcoin Increment_standardize</th>\n",
       "      <th>Predicted_standardize</th>\n",
       "    </tr>\n",
       "  </thead>\n",
       "  <tbody>\n",
       "    <tr>\n",
       "      <th>0</th>\n",
       "      <td>-1</td>\n",
       "      <td>846</td>\n",
       "      <td>-0.493265</td>\n",
       "      <td>-0.477972</td>\n",
       "    </tr>\n",
       "    <tr>\n",
       "      <th>1</th>\n",
       "      <td>-4</td>\n",
       "      <td>424</td>\n",
       "      <td>-1.351452</td>\n",
       "      <td>-1.473903</td>\n",
       "    </tr>\n",
       "    <tr>\n",
       "      <th>2</th>\n",
       "      <td>2</td>\n",
       "      <td>1560</td>\n",
       "      <td>0.958738</td>\n",
       "      <td>0.517959</td>\n",
       "    </tr>\n",
       "    <tr>\n",
       "      <th>3</th>\n",
       "      <td>-3</td>\n",
       "      <td>523</td>\n",
       "      <td>-1.150124</td>\n",
       "      <td>-1.141926</td>\n",
       "    </tr>\n",
       "  </tbody>\n",
       "</table>\n",
       "</div>"
      ],
      "text/plain": [
       "   Gold Price Increment  Bitcoin Increment  Bitcoin Increment_standardize  \\\n",
       "0                    -1                846                      -0.493265   \n",
       "1                    -4                424                      -1.351452   \n",
       "2                     2               1560                       0.958738   \n",
       "3                    -3                523                      -1.150124   \n",
       "\n",
       "   Predicted_standardize  \n",
       "0              -0.477972  \n",
       "1              -1.473903  \n",
       "2               0.517959  \n",
       "3              -1.141926  "
      ]
     },
     "execution_count": 109,
     "metadata": {},
     "output_type": "execute_result"
    }
   ],
   "source": [
    "### START CODE HERE ###\n",
    "\n",
    "df['Predicted_standardize'] = theta_1_history[-1]*df['Gold Price Increment'] + theta_0_history[-1]\n",
    "\n",
    "### END CODE HERE ###\n",
    "df[['Gold Price Increment', 'Bitcoin Increment', 'Bitcoin Increment_standardize', 'Predicted_standardize']].head(4)"
   ]
  },
  {
   "cell_type": "markdown",
   "metadata": {},
   "source": [
    "Create the `Predicted` that inverse standardize of `Predicted_standardize`\n",
    "\n",
    "\n",
    "<details>\n",
    "\n",
    "<summary>\n",
    "<font size=\"3\" color=\"orange\">\n",
    "<b>Expected output</b>\n",
    "</font>\n",
    "</summary>\n",
    "\n",
    "- The output should resemble this, but not be identical, depending on your initial parameters value.</br>\n",
    "<br>\n",
    "\n",
    "| Gold Price Increment | Bitcoin Increment | Bitcoin Increment_standardize | Predicted_standardize | Predicted       |\n",
    "|----------------------|-------------------|-------------------------------|------------------------|-----------------|\n",
    "| -1                | 846                           | -0.493265              | -0.239102\t   | 970.981043| 1005.037081     |\n",
    "| -4                | 424                           | -1.351452              | -1.148680\t   | 523.710247     |\n",
    "| 2                 | 1560                          | 0.958738               | 0.670476\t       | 1418.251840     |\n",
    "| -3                | 523                           | -1.150124              | -0.845487\t   | 672.800513     |\n",
    "\n",
    "\n",
    "\n",
    "</details>"
   ]
  },
  {
   "cell_type": "code",
   "execution_count": 110,
   "metadata": {},
   "outputs": [
    {
     "data": {
      "text/html": [
       "<div>\n",
       "<style scoped>\n",
       "    .dataframe tbody tr th:only-of-type {\n",
       "        vertical-align: middle;\n",
       "    }\n",
       "\n",
       "    .dataframe tbody tr th {\n",
       "        vertical-align: top;\n",
       "    }\n",
       "\n",
       "    .dataframe thead th {\n",
       "        text-align: right;\n",
       "    }\n",
       "</style>\n",
       "<table border=\"1\" class=\"dataframe\">\n",
       "  <thead>\n",
       "    <tr style=\"text-align: right;\">\n",
       "      <th></th>\n",
       "      <th>Gold Price Increment</th>\n",
       "      <th>Bitcoin Increment</th>\n",
       "      <th>Bitcoin Increment_standardize</th>\n",
       "      <th>Predicted_standardize</th>\n",
       "      <th>Predicted</th>\n",
       "    </tr>\n",
       "  </thead>\n",
       "  <tbody>\n",
       "    <tr>\n",
       "      <th>0</th>\n",
       "      <td>-1</td>\n",
       "      <td>846</td>\n",
       "      <td>-0.493265</td>\n",
       "      <td>-0.477972</td>\n",
       "      <td>839.262894</td>\n",
       "    </tr>\n",
       "    <tr>\n",
       "      <th>1</th>\n",
       "      <td>-4</td>\n",
       "      <td>424</td>\n",
       "      <td>-1.351452</td>\n",
       "      <td>-1.473903</td>\n",
       "      <td>319.822021</td>\n",
       "    </tr>\n",
       "    <tr>\n",
       "      <th>2</th>\n",
       "      <td>2</td>\n",
       "      <td>1560</td>\n",
       "      <td>0.958738</td>\n",
       "      <td>0.517959</td>\n",
       "      <td>1358.703767</td>\n",
       "    </tr>\n",
       "    <tr>\n",
       "      <th>3</th>\n",
       "      <td>-3</td>\n",
       "      <td>523</td>\n",
       "      <td>-1.150124</td>\n",
       "      <td>-1.141926</td>\n",
       "      <td>492.968979</td>\n",
       "    </tr>\n",
       "    <tr>\n",
       "      <th>4</th>\n",
       "      <td>1</td>\n",
       "      <td>1012</td>\n",
       "      <td>-0.155685</td>\n",
       "      <td>0.185982</td>\n",
       "      <td>1185.556809</td>\n",
       "    </tr>\n",
       "  </tbody>\n",
       "</table>\n",
       "</div>"
      ],
      "text/plain": [
       "   Gold Price Increment  Bitcoin Increment  Bitcoin Increment_standardize  \\\n",
       "0                    -1                846                      -0.493265   \n",
       "1                    -4                424                      -1.351452   \n",
       "2                     2               1560                       0.958738   \n",
       "3                    -3                523                      -1.150124   \n",
       "4                     1               1012                      -0.155685   \n",
       "\n",
       "   Predicted_standardize    Predicted  \n",
       "0              -0.477972   839.262894  \n",
       "1              -1.473903   319.822021  \n",
       "2               0.517959  1358.703767  \n",
       "3              -1.141926   492.968979  \n",
       "4               0.185982  1185.556809  "
      ]
     },
     "execution_count": 110,
     "metadata": {},
     "output_type": "execute_result"
    }
   ],
   "source": [
    "### START CODE HERE ###\n",
    "\n",
    "df['Predicted'] = df['Predicted_standardize']*df['Bitcoin Increment'].std() +df['Bitcoin Increment'].mean()\n",
    "\n",
    "### END CODE HERE ###\n",
    "df[['Gold Price Increment', 'Bitcoin Increment', 'Bitcoin Increment_standardize', 'Predicted_standardize','Predicted']].head(5)"
   ]
  },
  {
   "cell_type": "markdown",
   "metadata": {},
   "source": [
    "## Question\n",
    "1. What would be the iteration that gives the best parameters?\n",
    "2. What are the best regression model parameters?\n",
    "3. Show regression model equation of best parameters compared to the regression model equation from the last iteration (#30) "
   ]
  },
  {
   "cell_type": "code",
   "execution_count": 111,
   "metadata": {},
   "outputs": [],
   "source": [
    "# Ans"
   ]
  }
 ],
 "metadata": {
  "kernelspec": {
   "display_name": "pytorch",
   "language": "python",
   "name": "python3"
  },
  "language_info": {
   "codemirror_mode": {
    "name": "ipython",
    "version": 3
   },
   "file_extension": ".py",
   "mimetype": "text/x-python",
   "name": "python",
   "nbconvert_exporter": "python",
   "pygments_lexer": "ipython3",
   "version": "3.10.13"
  }
 },
 "nbformat": 4,
 "nbformat_minor": 2
}
